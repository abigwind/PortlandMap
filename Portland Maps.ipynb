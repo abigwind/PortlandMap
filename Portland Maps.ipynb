{
 "cells": [
  {
   "cell_type": "markdown",
   "id": "d7223cf4",
   "metadata": {},
   "source": [
    "Let's make some maps"
   ]
  },
  {
   "cell_type": "code",
   "execution_count": 2,
   "id": "f4de325b",
   "metadata": {},
   "outputs": [
    {
     "name": "stdout",
     "output_type": "stream",
     "text": [
      "Note: you may need to restart the kernel to use updated packages.\n"
     ]
    }
   ],
   "source": [
    "%pip install -q folium"
   ]
  },
  {
   "cell_type": "code",
   "execution_count": 12,
   "id": "a2841738",
   "metadata": {},
   "outputs": [],
   "source": [
    "import pandas as pd\n",
    "import matplotlib.pyplot as plt\n",
    "import seaborn as sns\n",
    "import folium"
   ]
  },
  {
   "cell_type": "code",
   "execution_count": 13,
   "id": "3f39c6bc",
   "metadata": {},
   "outputs": [
    {
     "data": {
      "text/html": [
       "<div style=\"width:100%;\"><div style=\"position:relative;width:100%;height:0;padding-bottom:60%;\"><span style=\"color:#565656\">Make this Notebook Trusted to load map: File -> Trust Notebook</span><iframe srcdoc=\"&lt;!DOCTYPE html&gt;\n",
       "&lt;html&gt;\n",
       "&lt;head&gt;\n",
       "    \n",
       "    &lt;meta http-equiv=&quot;content-type&quot; content=&quot;text/html; charset=UTF-8&quot; /&gt;\n",
       "    \n",
       "        &lt;script&gt;\n",
       "            L_NO_TOUCH = false;\n",
       "            L_DISABLE_3D = false;\n",
       "        &lt;/script&gt;\n",
       "    \n",
       "    &lt;style&gt;html, body {width: 100%;height: 100%;margin: 0;padding: 0;}&lt;/style&gt;\n",
       "    &lt;style&gt;#map {position:absolute;top:0;bottom:0;right:0;left:0;}&lt;/style&gt;\n",
       "    &lt;script src=&quot;https://cdn.jsdelivr.net/npm/leaflet@1.9.3/dist/leaflet.js&quot;&gt;&lt;/script&gt;\n",
       "    &lt;script src=&quot;https://code.jquery.com/jquery-3.7.1.min.js&quot;&gt;&lt;/script&gt;\n",
       "    &lt;script src=&quot;https://cdn.jsdelivr.net/npm/bootstrap@5.2.2/dist/js/bootstrap.bundle.min.js&quot;&gt;&lt;/script&gt;\n",
       "    &lt;script src=&quot;https://cdnjs.cloudflare.com/ajax/libs/Leaflet.awesome-markers/2.0.2/leaflet.awesome-markers.js&quot;&gt;&lt;/script&gt;\n",
       "    &lt;link rel=&quot;stylesheet&quot; href=&quot;https://cdn.jsdelivr.net/npm/leaflet@1.9.3/dist/leaflet.css&quot;/&gt;\n",
       "    &lt;link rel=&quot;stylesheet&quot; href=&quot;https://cdn.jsdelivr.net/npm/bootstrap@5.2.2/dist/css/bootstrap.min.css&quot;/&gt;\n",
       "    &lt;link rel=&quot;stylesheet&quot; href=&quot;https://netdna.bootstrapcdn.com/bootstrap/3.0.0/css/bootstrap-glyphicons.css&quot;/&gt;\n",
       "    &lt;link rel=&quot;stylesheet&quot; href=&quot;https://cdn.jsdelivr.net/npm/@fortawesome/fontawesome-free@6.2.0/css/all.min.css&quot;/&gt;\n",
       "    &lt;link rel=&quot;stylesheet&quot; href=&quot;https://cdnjs.cloudflare.com/ajax/libs/Leaflet.awesome-markers/2.0.2/leaflet.awesome-markers.css&quot;/&gt;\n",
       "    &lt;link rel=&quot;stylesheet&quot; href=&quot;https://cdn.jsdelivr.net/gh/python-visualization/folium/folium/templates/leaflet.awesome.rotate.min.css&quot;/&gt;\n",
       "    \n",
       "            &lt;meta name=&quot;viewport&quot; content=&quot;width=device-width,\n",
       "                initial-scale=1.0, maximum-scale=1.0, user-scalable=no&quot; /&gt;\n",
       "            &lt;style&gt;\n",
       "                #map_d0aa48035b4ddc7d07bb2a86d2af945b {\n",
       "                    position: relative;\n",
       "                    width: 100.0%;\n",
       "                    height: 100.0%;\n",
       "                    left: 0.0%;\n",
       "                    top: 0.0%;\n",
       "                }\n",
       "                .leaflet-container { font-size: 1rem; }\n",
       "            &lt;/style&gt;\n",
       "        \n",
       "&lt;/head&gt;\n",
       "&lt;body&gt;\n",
       "    \n",
       "    \n",
       "            &lt;div class=&quot;folium-map&quot; id=&quot;map_d0aa48035b4ddc7d07bb2a86d2af945b&quot; &gt;&lt;/div&gt;\n",
       "        \n",
       "&lt;/body&gt;\n",
       "&lt;script&gt;\n",
       "    \n",
       "    \n",
       "            var map_d0aa48035b4ddc7d07bb2a86d2af945b = L.map(\n",
       "                &quot;map_d0aa48035b4ddc7d07bb2a86d2af945b&quot;,\n",
       "                {\n",
       "                    center: [45.5236, -122.675],\n",
       "                    crs: L.CRS.EPSG3857,\n",
       "                    ...{\n",
       "  &quot;zoom&quot;: 10,\n",
       "  &quot;zoomControl&quot;: true,\n",
       "  &quot;preferCanvas&quot;: false,\n",
       "}\n",
       "\n",
       "                }\n",
       "            );\n",
       "\n",
       "            \n",
       "\n",
       "        \n",
       "    \n",
       "            var tile_layer_733b57e1a6d40506da126f48b17ac7d2 = L.tileLayer(\n",
       "                &quot;https://tile.openstreetmap.org/{z}/{x}/{y}.png&quot;,\n",
       "                {\n",
       "  &quot;minZoom&quot;: 0,\n",
       "  &quot;maxZoom&quot;: 19,\n",
       "  &quot;maxNativeZoom&quot;: 19,\n",
       "  &quot;noWrap&quot;: false,\n",
       "  &quot;attribution&quot;: &quot;\\u0026copy; \\u003ca href=\\&quot;https://www.openstreetmap.org/copyright\\&quot;\\u003eOpenStreetMap\\u003c/a\\u003e contributors&quot;,\n",
       "  &quot;subdomains&quot;: &quot;abc&quot;,\n",
       "  &quot;detectRetina&quot;: false,\n",
       "  &quot;tms&quot;: false,\n",
       "  &quot;opacity&quot;: 1,\n",
       "}\n",
       "\n",
       "            );\n",
       "        \n",
       "    \n",
       "            tile_layer_733b57e1a6d40506da126f48b17ac7d2.addTo(map_d0aa48035b4ddc7d07bb2a86d2af945b);\n",
       "        \n",
       "&lt;/script&gt;\n",
       "&lt;/html&gt;\" style=\"position:absolute;width:100%;height:100%;left:0;top:0;border:none !important;\" allowfullscreen webkitallowfullscreen mozallowfullscreen></iframe></div></div>"
      ],
      "text/plain": [
       "<folium.folium.Map at 0x7fd44843bdf0>"
      ]
     },
     "execution_count": 13,
     "metadata": {},
     "output_type": "execute_result"
    }
   ],
   "source": [
    "m = folium.Map(location=(45.5236, -122.6750))\n",
    "m"
   ]
  },
  {
   "cell_type": "code",
   "execution_count": 3,
   "id": "fcc71f0c",
   "metadata": {},
   "outputs": [
    {
     "name": "stdout",
     "output_type": "stream",
     "text": [
      "Note: you may need to restart the kernel to use updated packages.\n"
     ]
    }
   ],
   "source": [
    "%pip install -q dask"
   ]
  },
  {
   "cell_type": "code",
   "execution_count": 14,
   "id": "e0fb0c9a",
   "metadata": {},
   "outputs": [
    {
     "ename": "ImportError",
     "evalue": "cannot import name 'MapView' from 'arcgis.mapping' (/Users/mattnelson/anaconda3/lib/python3.10/site-packages/arcgis/mapping/__init__.py)",
     "output_type": "error",
     "traceback": [
      "\u001b[0;31m---------------------------------------------------------------------------\u001b[0m",
      "\u001b[0;31mImportError\u001b[0m                               Traceback (most recent call last)",
      "Cell \u001b[0;32mIn[14], line 2\u001b[0m\n\u001b[1;32m      1\u001b[0m \u001b[38;5;28;01mfrom\u001b[39;00m \u001b[38;5;21;01marcgis\u001b[39;00m\u001b[38;5;21;01m.\u001b[39;00m\u001b[38;5;21;01mgis\u001b[39;00m \u001b[38;5;28;01mimport\u001b[39;00m GIS\n\u001b[0;32m----> 2\u001b[0m \u001b[38;5;28;01mfrom\u001b[39;00m \u001b[38;5;21;01marcgis\u001b[39;00m\u001b[38;5;21;01m.\u001b[39;00m\u001b[38;5;21;01mmapping\u001b[39;00m \u001b[38;5;28;01mimport\u001b[39;00m MapView, WebMap\n\u001b[1;32m      3\u001b[0m \u001b[38;5;28;01mfrom\u001b[39;00m \u001b[38;5;21;01marcgis\u001b[39;00m\u001b[38;5;21;01m.\u001b[39;00m\u001b[38;5;21;01mfeatures\u001b[39;00m \u001b[38;5;28;01mimport\u001b[39;00m Feature, FeatureSet, FeatureLayer\n\u001b[1;32m      4\u001b[0m \u001b[38;5;28;01mfrom\u001b[39;00m \u001b[38;5;21;01marcgis\u001b[39;00m\u001b[38;5;21;01m.\u001b[39;00m\u001b[38;5;21;01mgeometry\u001b[39;00m \u001b[38;5;28;01mimport\u001b[39;00m Point\n",
      "\u001b[0;31mImportError\u001b[0m: cannot import name 'MapView' from 'arcgis.mapping' (/Users/mattnelson/anaconda3/lib/python3.10/site-packages/arcgis/mapping/__init__.py)"
     ]
    }
   ],
   "source": [
    "from arcgis.gis import GIS\n",
    "from arcgis.mapping import MapView, WebMap\n",
    "from arcgis.features import Feature, FeatureSet, FeatureLayer\n",
    "from arcgis.geometry import Point"
   ]
  },
  {
   "cell_type": "code",
   "execution_count": 6,
   "id": "0dc7072c",
   "metadata": {},
   "outputs": [],
   "source": [
    "gis = GIS(\"https://www.arcgis.com\", \"abigwind\", \"tr-g22xVZ*RB!Az\")"
   ]
  },
  {
   "cell_type": "code",
   "execution_count": 17,
   "id": "cd00a1c3",
   "metadata": {},
   "outputs": [
    {
     "ename": "TypeError",
     "evalue": "GIS.map() got an unexpected keyword argument 'basemap'",
     "output_type": "error",
     "traceback": [
      "\u001b[0;31m---------------------------------------------------------------------------\u001b[0m",
      "\u001b[0;31mTypeError\u001b[0m                                 Traceback (most recent call last)",
      "Cell \u001b[0;32mIn[17], line 2\u001b[0m\n\u001b[1;32m      1\u001b[0m \u001b[38;5;66;03m# Step 2: Create a Map Centered on Portland, Oregon\u001b[39;00m\n\u001b[0;32m----> 2\u001b[0m map_portland \u001b[38;5;241m=\u001b[39m \u001b[43mgis\u001b[49m\u001b[38;5;241;43m.\u001b[39;49m\u001b[43mmap\u001b[49m\u001b[43m(\u001b[49m\u001b[38;5;124;43m\"\u001b[39;49m\u001b[38;5;124;43mPortland, Oregon\u001b[39;49m\u001b[38;5;124;43m\"\u001b[39;49m\u001b[43m,\u001b[49m\u001b[43m \u001b[49m\u001b[43mbasemap\u001b[49m\u001b[43m \u001b[49m\u001b[38;5;241;43m=\u001b[39;49m\u001b[43m \u001b[49m\u001b[38;5;124;43m\"\u001b[39;49m\u001b[38;5;124;43mstreets\u001b[39;49m\u001b[38;5;124;43m\"\u001b[39;49m\u001b[43m)\u001b[49m\n\u001b[1;32m      4\u001b[0m \u001b[38;5;66;03m# Step 3: Add a Point to the Map (e.g., a specific address)\u001b[39;00m\n\u001b[1;32m      5\u001b[0m \u001b[38;5;66;03m# Define a point geometry (latitude, longitude)\u001b[39;00m\n\u001b[1;32m      6\u001b[0m point_geometry \u001b[38;5;241m=\u001b[39m Point({\u001b[38;5;124m\"\u001b[39m\u001b[38;5;124mx\u001b[39m\u001b[38;5;124m\"\u001b[39m: \u001b[38;5;241m-\u001b[39m\u001b[38;5;241m122.6363\u001b[39m, \u001b[38;5;124m\"\u001b[39m\u001b[38;5;124my\u001b[39m\u001b[38;5;124m\"\u001b[39m: \u001b[38;5;241m45.5122\u001b[39m, \u001b[38;5;124m\"\u001b[39m\u001b[38;5;124mspatialReference\u001b[39m\u001b[38;5;124m\"\u001b[39m: {\u001b[38;5;124m\"\u001b[39m\u001b[38;5;124mwkid\u001b[39m\u001b[38;5;124m\"\u001b[39m: \u001b[38;5;241m4326\u001b[39m}})  \u001b[38;5;66;03m# Replace with your coordinates\u001b[39;00m\n",
      "\u001b[0;31mTypeError\u001b[0m: GIS.map() got an unexpected keyword argument 'basemap'"
     ]
    }
   ],
   "source": [
    "# Step 2: Create a Map Centered on Portland, Oregon\n",
    "map_portland = gis.map(\"Portland, Oregon\", basemap = \"streets\")\n",
    "\n",
    "# Step 3: Add a Point to the Map (e.g., a specific address)\n",
    "# Define a point geometry (latitude, longitude)\n",
    "point_geometry = Point({\"x\": -122.6363, \"y\": 45.5122, \"spatialReference\": {\"wkid\": 4326}})  # Replace with your coordinates\n",
    "\n",
    "map_portland.draw(feature_set)\n",
    "\n",
    "# Step 4: Visualize the Map\n",
    "map_portland"
   ]
  },
  {
   "cell_type": "code",
   "execution_count": 1,
   "id": "4ccf01ec",
   "metadata": {},
   "outputs": [
    {
     "name": "stderr",
     "output_type": "stream",
     "text": [
      "/Users/mattnelson/anaconda3/lib/python3.10/site-packages/dask/dataframe/__init__.py:49: FutureWarning: \n",
      "Dask dataframe query planning is disabled because dask-expr is not installed.\n",
      "\n",
      "You can install it with `pip install dask[dataframe]` or `conda install dask`.\n",
      "This will raise in a future version.\n",
      "\n",
      "  warnings.warn(msg, FutureWarning)\n"
     ]
    },
    {
     "ename": "Exception",
     "evalue": "Invalid URL\nInvalid URL\n(Error Code: 400)",
     "output_type": "error",
     "traceback": [
      "\u001b[0;31m---------------------------------------------------------------------------\u001b[0m",
      "\u001b[0;31mException\u001b[0m                                 Traceback (most recent call last)",
      "File \u001b[0;32m~/anaconda3/lib/python3.10/site-packages/arcgis/gis/__init__.py:18855\u001b[0m, in \u001b[0;36m_GISResource._hydrate\u001b[0;34m(self)\u001b[0m\n\u001b[1;32m  18854\u001b[0m \u001b[38;5;28;01mtry\u001b[39;00m:\n\u001b[0;32m> 18855\u001b[0m     \u001b[38;5;28;43mself\u001b[39;49m\u001b[38;5;241;43m.\u001b[39;49m\u001b[43m_refresh\u001b[49m\u001b[43m(\u001b[49m\u001b[43m)\u001b[49m\n\u001b[1;32m  18857\u001b[0m \u001b[38;5;28;01mexcept\u001b[39;00m HTTPError \u001b[38;5;28;01mas\u001b[39;00m httperror:  \u001b[38;5;66;03m# service maybe down\u001b[39;00m\n",
      "File \u001b[0;32m~/anaconda3/lib/python3.10/site-packages/arcgis/gis/__init__.py:18829\u001b[0m, in \u001b[0;36m_GISResource._refresh\u001b[0;34m(self)\u001b[0m\n\u001b[1;32m  18828\u001b[0m         \u001b[38;5;28;01melse\u001b[39;00m:\n\u001b[0;32m> 18829\u001b[0m             \u001b[38;5;28;01mraise\u001b[39;00m e\n\u001b[1;32m  18831\u001b[0m \u001b[38;5;28mself\u001b[39m\u001b[38;5;241m.\u001b[39m_lazy_properties \u001b[38;5;241m=\u001b[39m _mixins\u001b[38;5;241m.\u001b[39mPropertyMap(dictdata)\n",
      "File \u001b[0;32m~/anaconda3/lib/python3.10/site-packages/arcgis/gis/__init__.py:18818\u001b[0m, in \u001b[0;36m_GISResource._refresh\u001b[0;34m(self)\u001b[0m\n\u001b[1;32m  18817\u001b[0m     \u001b[38;5;28;01melse\u001b[39;00m:\n\u001b[0;32m> 18818\u001b[0m         dictdata \u001b[38;5;241m=\u001b[39m \u001b[38;5;28;43mself\u001b[39;49m\u001b[38;5;241;43m.\u001b[39;49m\u001b[43m_con\u001b[49m\u001b[38;5;241;43m.\u001b[39;49m\u001b[43mpost\u001b[49m\u001b[43m(\u001b[49m\n\u001b[1;32m  18819\u001b[0m \u001b[43m            \u001b[49m\u001b[38;5;28;43mself\u001b[39;49m\u001b[38;5;241;43m.\u001b[39;49m\u001b[43murl\u001b[49m\u001b[43m,\u001b[49m\u001b[43m \u001b[49m\u001b[43mparams\u001b[49m\n\u001b[1;32m  18820\u001b[0m \u001b[43m        \u001b[49m\u001b[43m)\u001b[49m  \u001b[38;5;66;03m# , token=self._lazy_token)\u001b[39;00m\n\u001b[1;32m  18821\u001b[0m \u001b[38;5;28;01mexcept\u001b[39;00m \u001b[38;5;167;01mException\u001b[39;00m \u001b[38;5;28;01mas\u001b[39;00m e:\n",
      "File \u001b[0;32m~/anaconda3/lib/python3.10/site-packages/arcgis/gis/_impl/_con/_connection.py:1504\u001b[0m, in \u001b[0;36mConnection.post\u001b[0;34m(self, path, params, files, **kwargs)\u001b[0m\n\u001b[1;32m   1503\u001b[0m     \u001b[38;5;28;01mreturn\u001b[39;00m resp\n\u001b[0;32m-> 1504\u001b[0m \u001b[38;5;28;01mreturn\u001b[39;00m \u001b[38;5;28;43mself\u001b[39;49m\u001b[38;5;241;43m.\u001b[39;49m\u001b[43m_handle_response\u001b[49m\u001b[43m(\u001b[49m\n\u001b[1;32m   1505\u001b[0m \u001b[43m    \u001b[49m\u001b[43mresp\u001b[49m\u001b[38;5;241;43m=\u001b[39;49m\u001b[43mresp\u001b[49m\u001b[43m,\u001b[49m\n\u001b[1;32m   1506\u001b[0m \u001b[43m    \u001b[49m\u001b[43mout_path\u001b[49m\u001b[38;5;241;43m=\u001b[39;49m\u001b[43mout_path\u001b[49m\u001b[43m,\u001b[49m\n\u001b[1;32m   1507\u001b[0m \u001b[43m    \u001b[49m\u001b[43mfile_name\u001b[49m\u001b[38;5;241;43m=\u001b[39;49m\u001b[43mfile_name\u001b[49m\u001b[43m,\u001b[49m\n\u001b[1;32m   1508\u001b[0m \u001b[43m    \u001b[49m\u001b[43mtry_json\u001b[49m\u001b[38;5;241;43m=\u001b[39;49m\u001b[43mtry_json\u001b[49m\u001b[43m,\u001b[49m\n\u001b[1;32m   1509\u001b[0m \u001b[43m    \u001b[49m\u001b[43mforce_bytes\u001b[49m\u001b[38;5;241;43m=\u001b[39;49m\u001b[43mkwargs\u001b[49m\u001b[38;5;241;43m.\u001b[39;49m\u001b[43mpop\u001b[49m\u001b[43m(\u001b[49m\u001b[38;5;124;43m\"\u001b[39;49m\u001b[38;5;124;43mforce_bytes\u001b[39;49m\u001b[38;5;124;43m\"\u001b[39;49m\u001b[43m,\u001b[49m\u001b[43m \u001b[49m\u001b[38;5;28;43;01mFalse\u001b[39;49;00m\u001b[43m)\u001b[49m\u001b[43m,\u001b[49m\n\u001b[1;32m   1510\u001b[0m \u001b[43m\u001b[49m\u001b[43m)\u001b[49m\n",
      "File \u001b[0;32m~/anaconda3/lib/python3.10/site-packages/arcgis/gis/_impl/_con/_connection.py:979\u001b[0m, in \u001b[0;36mConnection._handle_response\u001b[0;34m(self, resp, file_name, out_path, try_json, force_bytes, ignore_error_key)\u001b[0m\n\u001b[1;32m    978\u001b[0m     errorcode \u001b[38;5;241m=\u001b[39m data[\u001b[38;5;124m\"\u001b[39m\u001b[38;5;124merror\u001b[39m\u001b[38;5;124m\"\u001b[39m][\u001b[38;5;124m\"\u001b[39m\u001b[38;5;124mcode\u001b[39m\u001b[38;5;124m\"\u001b[39m] \u001b[38;5;28;01mif\u001b[39;00m \u001b[38;5;124m\"\u001b[39m\u001b[38;5;124mcode\u001b[39m\u001b[38;5;124m\"\u001b[39m \u001b[38;5;129;01min\u001b[39;00m data[\u001b[38;5;124m\"\u001b[39m\u001b[38;5;124merror\u001b[39m\u001b[38;5;124m\"\u001b[39m] \u001b[38;5;28;01melse\u001b[39;00m \u001b[38;5;241m0\u001b[39m\n\u001b[0;32m--> 979\u001b[0m     \u001b[38;5;28;43mself\u001b[39;49m\u001b[38;5;241;43m.\u001b[39;49m\u001b[43m_handle_json_error\u001b[49m\u001b[43m(\u001b[49m\u001b[43mdata\u001b[49m\u001b[43m[\u001b[49m\u001b[38;5;124;43m\"\u001b[39;49m\u001b[38;5;124;43merror\u001b[39;49m\u001b[38;5;124;43m\"\u001b[39;49m\u001b[43m]\u001b[49m\u001b[43m,\u001b[49m\u001b[43m \u001b[49m\u001b[43merrorcode\u001b[49m\u001b[43m)\u001b[49m\n\u001b[1;32m    980\u001b[0m \u001b[38;5;28;01mreturn\u001b[39;00m data\n",
      "File \u001b[0;32m~/anaconda3/lib/python3.10/site-packages/arcgis/gis/_impl/_con/_connection.py:1002\u001b[0m, in \u001b[0;36mConnection._handle_json_error\u001b[0;34m(self, error, errorcode)\u001b[0m\n\u001b[1;32m   1001\u001b[0m errormessage \u001b[38;5;241m=\u001b[39m errormessage \u001b[38;5;241m+\u001b[39m \u001b[38;5;124m\"\u001b[39m\u001b[38;5;130;01m\\n\u001b[39;00m\u001b[38;5;124m(Error Code: \u001b[39m\u001b[38;5;124m\"\u001b[39m \u001b[38;5;241m+\u001b[39m \u001b[38;5;28mstr\u001b[39m(errorcode) \u001b[38;5;241m+\u001b[39m \u001b[38;5;124m\"\u001b[39m\u001b[38;5;124m)\u001b[39m\u001b[38;5;124m\"\u001b[39m\n\u001b[0;32m-> 1002\u001b[0m \u001b[38;5;28;01mraise\u001b[39;00m \u001b[38;5;167;01mException\u001b[39;00m(errormessage)\n",
      "\u001b[0;31mException\u001b[0m: Invalid URL\nInvalid URL\n(Error Code: 400)",
      "\nDuring handling of the above exception, another exception occurred:\n",
      "\u001b[0;31mException\u001b[0m                                 Traceback (most recent call last)",
      "Cell \u001b[0;32mIn[1], line 10\u001b[0m\n\u001b[1;32m      7\u001b[0m layer \u001b[38;5;241m=\u001b[39m FeatureLayer(url)\n\u001b[1;32m      9\u001b[0m \u001b[38;5;66;03m# Query the data\u001b[39;00m\n\u001b[0;32m---> 10\u001b[0m features \u001b[38;5;241m=\u001b[39m \u001b[43mlayer\u001b[49m\u001b[38;5;241;43m.\u001b[39;49m\u001b[43mquery\u001b[49m\u001b[43m(\u001b[49m\u001b[43mwhere\u001b[49m\u001b[38;5;241;43m=\u001b[39;49m\u001b[38;5;124;43m\"\u001b[39;49m\u001b[38;5;124;43m1=1\u001b[39;49m\u001b[38;5;124;43m\"\u001b[39;49m\u001b[43m,\u001b[49m\u001b[43m \u001b[49m\u001b[43mout_fields\u001b[49m\u001b[38;5;241;43m=\u001b[39;49m\u001b[38;5;124;43m\"\u001b[39;49m\u001b[38;5;124;43m*\u001b[39;49m\u001b[38;5;124;43m\"\u001b[39;49m\u001b[43m,\u001b[49m\u001b[43m \u001b[49m\u001b[43mas_df\u001b[49m\u001b[38;5;241;43m=\u001b[39;49m\u001b[38;5;28;43;01mFalse\u001b[39;49;00m\u001b[43m)\u001b[49m\n\u001b[1;32m     12\u001b[0m \u001b[38;5;66;03m# Convert to GeoJSON\u001b[39;00m\n\u001b[1;32m     13\u001b[0m geojson_data \u001b[38;5;241m=\u001b[39m features\u001b[38;5;241m.\u001b[39mto_geojson\n",
      "File \u001b[0;32m~/anaconda3/lib/python3.10/site-packages/arcgis/features/layer.py:2212\u001b[0m, in \u001b[0;36mFeatureLayer.query\u001b[0;34m(self, where, out_fields, time_filter, geometry_filter, return_geometry, return_count_only, return_ids_only, return_distinct_values, return_extent_only, group_by_fields_for_statistics, statistic_filter, result_offset, result_record_count, object_ids, distance, units, max_allowable_offset, out_sr, geometry_precision, gdb_version, order_by_fields, out_statistics, return_z, return_m, multipatch_option, quantization_parameters, return_centroid, return_all_records, result_type, historic_moment, sql_format, return_true_curves, return_exceeded_limit_features, as_df, datum_transformation, time_reference_unknown_client, **kwargs)\u001b[0m\n\u001b[1;32m   1846\u001b[0m \u001b[38;5;28;01mdef\u001b[39;00m \u001b[38;5;21mquery\u001b[39m(\n\u001b[1;32m   1847\u001b[0m     \u001b[38;5;28mself\u001b[39m,\n\u001b[1;32m   1848\u001b[0m     where: \u001b[38;5;28mstr\u001b[39m \u001b[38;5;241m=\u001b[39m \u001b[38;5;124m\"\u001b[39m\u001b[38;5;124m1=1\u001b[39m\u001b[38;5;124m\"\u001b[39m,\n\u001b[0;32m   (...)\u001b[0m\n\u001b[1;32m   1884\u001b[0m     \u001b[38;5;241m*\u001b[39m\u001b[38;5;241m*\u001b[39mkwargs,\n\u001b[1;32m   1885\u001b[0m ):\n\u001b[1;32m   1886\u001b[0m     \u001b[38;5;124;03m\"\"\"\u001b[39;00m\n\u001b[1;32m   1887\u001b[0m \u001b[38;5;124;03m    The ``query`` method queries a :class:`~arcgis.features.FeatureLayer` based on a ``sql`` statement.\u001b[39;00m\n\u001b[1;32m   1888\u001b[0m \n\u001b[0;32m   (...)\u001b[0m\n\u001b[1;32m   2209\u001b[0m \n\u001b[1;32m   2210\u001b[0m \u001b[38;5;124;03m    \"\"\"\u001b[39;00m\n\u001b[0;32m-> 2212\u001b[0m     \u001b[38;5;28;01mreturn\u001b[39;00m \u001b[43m_query\u001b[49m\u001b[38;5;241;43m.\u001b[39;49m\u001b[43m_common_query\u001b[49m\u001b[43m(\u001b[49m\n\u001b[1;32m   2213\u001b[0m \u001b[43m        \u001b[49m\u001b[43mlayer\u001b[49m\u001b[38;5;241;43m=\u001b[39;49m\u001b[38;5;28;43mself\u001b[39;49m\u001b[43m,\u001b[49m\n\u001b[1;32m   2214\u001b[0m \u001b[43m        \u001b[49m\u001b[43mis_layer\u001b[49m\u001b[38;5;241;43m=\u001b[39;49m\u001b[38;5;28;43;01mTrue\u001b[39;49;00m\u001b[43m,\u001b[49m\n\u001b[1;32m   2215\u001b[0m \u001b[43m        \u001b[49m\u001b[43mwhere\u001b[49m\u001b[38;5;241;43m=\u001b[39;49m\u001b[43mwhere\u001b[49m\u001b[43m,\u001b[49m\n\u001b[1;32m   2216\u001b[0m \u001b[43m        \u001b[49m\u001b[43mout_fields\u001b[49m\u001b[38;5;241;43m=\u001b[39;49m\u001b[43mout_fields\u001b[49m\u001b[43m,\u001b[49m\n\u001b[1;32m   2217\u001b[0m \u001b[43m        \u001b[49m\u001b[43mtime_filter\u001b[49m\u001b[38;5;241;43m=\u001b[39;49m\u001b[43mtime_filter\u001b[49m\u001b[43m,\u001b[49m\n\u001b[1;32m   2218\u001b[0m \u001b[43m        \u001b[49m\u001b[43mgeometry_filter\u001b[49m\u001b[38;5;241;43m=\u001b[39;49m\u001b[43mgeometry_filter\u001b[49m\u001b[43m,\u001b[49m\n\u001b[1;32m   2219\u001b[0m \u001b[43m        \u001b[49m\u001b[43mreturn_geometry\u001b[49m\u001b[38;5;241;43m=\u001b[39;49m\u001b[43mreturn_geometry\u001b[49m\u001b[43m,\u001b[49m\n\u001b[1;32m   2220\u001b[0m \u001b[43m        \u001b[49m\u001b[43mreturn_count_only\u001b[49m\u001b[38;5;241;43m=\u001b[39;49m\u001b[43mreturn_count_only\u001b[49m\u001b[43m,\u001b[49m\n\u001b[1;32m   2221\u001b[0m \u001b[43m        \u001b[49m\u001b[43mreturn_ids_only\u001b[49m\u001b[38;5;241;43m=\u001b[39;49m\u001b[43mreturn_ids_only\u001b[49m\u001b[43m,\u001b[49m\n\u001b[1;32m   2222\u001b[0m \u001b[43m        \u001b[49m\u001b[43mreturn_distinct_values\u001b[49m\u001b[38;5;241;43m=\u001b[39;49m\u001b[43mreturn_distinct_values\u001b[49m\u001b[43m,\u001b[49m\n\u001b[1;32m   2223\u001b[0m \u001b[43m        \u001b[49m\u001b[43mreturn_extent_only\u001b[49m\u001b[38;5;241;43m=\u001b[39;49m\u001b[43mreturn_extent_only\u001b[49m\u001b[43m,\u001b[49m\n\u001b[1;32m   2224\u001b[0m \u001b[43m        \u001b[49m\u001b[43mgroup_by_fields_for_statistics\u001b[49m\u001b[38;5;241;43m=\u001b[39;49m\u001b[43mgroup_by_fields_for_statistics\u001b[49m\u001b[43m,\u001b[49m\n\u001b[1;32m   2225\u001b[0m \u001b[43m        \u001b[49m\u001b[43mstatistic_filter\u001b[49m\u001b[38;5;241;43m=\u001b[39;49m\u001b[43mstatistic_filter\u001b[49m\u001b[43m,\u001b[49m\n\u001b[1;32m   2226\u001b[0m \u001b[43m        \u001b[49m\u001b[43mresult_offset\u001b[49m\u001b[38;5;241;43m=\u001b[39;49m\u001b[43mresult_offset\u001b[49m\u001b[43m,\u001b[49m\n\u001b[1;32m   2227\u001b[0m \u001b[43m        \u001b[49m\u001b[43mresult_record_count\u001b[49m\u001b[38;5;241;43m=\u001b[39;49m\u001b[43mresult_record_count\u001b[49m\u001b[43m,\u001b[49m\n\u001b[1;32m   2228\u001b[0m \u001b[43m        \u001b[49m\u001b[43mobject_ids\u001b[49m\u001b[38;5;241;43m=\u001b[39;49m\u001b[43mobject_ids\u001b[49m\u001b[43m,\u001b[49m\n\u001b[1;32m   2229\u001b[0m \u001b[43m        \u001b[49m\u001b[43mdistance\u001b[49m\u001b[38;5;241;43m=\u001b[39;49m\u001b[43mdistance\u001b[49m\u001b[43m,\u001b[49m\n\u001b[1;32m   2230\u001b[0m \u001b[43m        \u001b[49m\u001b[43munits\u001b[49m\u001b[38;5;241;43m=\u001b[39;49m\u001b[43munits\u001b[49m\u001b[43m,\u001b[49m\n\u001b[1;32m   2231\u001b[0m \u001b[43m        \u001b[49m\u001b[43mmax_allowable_offset\u001b[49m\u001b[38;5;241;43m=\u001b[39;49m\u001b[43mmax_allowable_offset\u001b[49m\u001b[43m,\u001b[49m\n\u001b[1;32m   2232\u001b[0m \u001b[43m        \u001b[49m\u001b[43mout_sr\u001b[49m\u001b[38;5;241;43m=\u001b[39;49m\u001b[43mout_sr\u001b[49m\u001b[43m,\u001b[49m\n\u001b[1;32m   2233\u001b[0m \u001b[43m        \u001b[49m\u001b[43mgeometry_precision\u001b[49m\u001b[38;5;241;43m=\u001b[39;49m\u001b[43mgeometry_precision\u001b[49m\u001b[43m,\u001b[49m\n\u001b[1;32m   2234\u001b[0m \u001b[43m        \u001b[49m\u001b[43mgdb_version\u001b[49m\u001b[38;5;241;43m=\u001b[39;49m\u001b[43mgdb_version\u001b[49m\u001b[43m,\u001b[49m\n\u001b[1;32m   2235\u001b[0m \u001b[43m        \u001b[49m\u001b[43morder_by_fields\u001b[49m\u001b[38;5;241;43m=\u001b[39;49m\u001b[43morder_by_fields\u001b[49m\u001b[43m,\u001b[49m\n\u001b[1;32m   2236\u001b[0m \u001b[43m        \u001b[49m\u001b[43mout_statistics\u001b[49m\u001b[38;5;241;43m=\u001b[39;49m\u001b[43mout_statistics\u001b[49m\u001b[43m,\u001b[49m\n\u001b[1;32m   2237\u001b[0m \u001b[43m        \u001b[49m\u001b[43mreturn_z\u001b[49m\u001b[38;5;241;43m=\u001b[39;49m\u001b[43mreturn_z\u001b[49m\u001b[43m,\u001b[49m\n\u001b[1;32m   2238\u001b[0m \u001b[43m        \u001b[49m\u001b[43mreturn_m\u001b[49m\u001b[38;5;241;43m=\u001b[39;49m\u001b[43mreturn_m\u001b[49m\u001b[43m,\u001b[49m\n\u001b[1;32m   2239\u001b[0m \u001b[43m        \u001b[49m\u001b[43mmultipatch_option\u001b[49m\u001b[38;5;241;43m=\u001b[39;49m\u001b[43mmultipatch_option\u001b[49m\u001b[43m,\u001b[49m\n\u001b[1;32m   2240\u001b[0m \u001b[43m        \u001b[49m\u001b[43mquantization_parameters\u001b[49m\u001b[38;5;241;43m=\u001b[39;49m\u001b[43mquantization_parameters\u001b[49m\u001b[43m,\u001b[49m\n\u001b[1;32m   2241\u001b[0m \u001b[43m        \u001b[49m\u001b[43mreturn_centroid\u001b[49m\u001b[38;5;241;43m=\u001b[39;49m\u001b[43mreturn_centroid\u001b[49m\u001b[43m,\u001b[49m\n\u001b[1;32m   2242\u001b[0m \u001b[43m        \u001b[49m\u001b[43mreturn_all_records\u001b[49m\u001b[38;5;241;43m=\u001b[39;49m\u001b[43mreturn_all_records\u001b[49m\u001b[43m,\u001b[49m\n\u001b[1;32m   2243\u001b[0m \u001b[43m        \u001b[49m\u001b[43mresult_type\u001b[49m\u001b[38;5;241;43m=\u001b[39;49m\u001b[43mresult_type\u001b[49m\u001b[43m,\u001b[49m\n\u001b[1;32m   2244\u001b[0m \u001b[43m        \u001b[49m\u001b[43mhistoric_moment\u001b[49m\u001b[38;5;241;43m=\u001b[39;49m\u001b[43mhistoric_moment\u001b[49m\u001b[43m,\u001b[49m\n\u001b[1;32m   2245\u001b[0m \u001b[43m        \u001b[49m\u001b[43msql_format\u001b[49m\u001b[38;5;241;43m=\u001b[39;49m\u001b[43msql_format\u001b[49m\u001b[43m,\u001b[49m\n\u001b[1;32m   2246\u001b[0m \u001b[43m        \u001b[49m\u001b[43mreturn_true_curves\u001b[49m\u001b[38;5;241;43m=\u001b[39;49m\u001b[43mreturn_true_curves\u001b[49m\u001b[43m,\u001b[49m\n\u001b[1;32m   2247\u001b[0m \u001b[43m        \u001b[49m\u001b[43mreturn_exceeded_limit_features\u001b[49m\u001b[38;5;241;43m=\u001b[39;49m\u001b[43mreturn_exceeded_limit_features\u001b[49m\u001b[43m,\u001b[49m\n\u001b[1;32m   2248\u001b[0m \u001b[43m        \u001b[49m\u001b[43mas_df\u001b[49m\u001b[38;5;241;43m=\u001b[39;49m\u001b[43mas_df\u001b[49m\u001b[43m,\u001b[49m\n\u001b[1;32m   2249\u001b[0m \u001b[43m        \u001b[49m\u001b[43mdatum_transformation\u001b[49m\u001b[38;5;241;43m=\u001b[39;49m\u001b[43mdatum_transformation\u001b[49m\u001b[43m,\u001b[49m\n\u001b[1;32m   2250\u001b[0m \u001b[43m        \u001b[49m\u001b[43mtime_reference_unknown_client\u001b[49m\u001b[38;5;241;43m=\u001b[39;49m\u001b[43mtime_reference_unknown_client\u001b[49m\u001b[43m,\u001b[49m\n\u001b[1;32m   2251\u001b[0m \u001b[43m        \u001b[49m\u001b[38;5;241;43m*\u001b[39;49m\u001b[38;5;241;43m*\u001b[39;49m\u001b[43mkwargs\u001b[49m\u001b[43m,\u001b[49m\n\u001b[1;32m   2252\u001b[0m \u001b[43m    \u001b[49m\u001b[43m)\u001b[49m\n",
      "File \u001b[0;32m~/anaconda3/lib/python3.10/site-packages/arcgis/_impl/common/_query.py:69\u001b[0m, in \u001b[0;36m_common_query\u001b[0;34m(layer, is_layer, where, text, out_fields, time_filter, geometry_filter, return_geometry, return_count_only, return_ids_only, return_distinct_values, return_extent_only, group_by_fields_for_statistics, statistic_filter, result_offset, result_record_count, object_ids, distance, units, max_allowable_offset, out_sr, geometry_precision, gdb_version, order_by_fields, out_statistics, return_z, return_m, multipatch_option, quantization_parameters, return_centroid, return_all_records, result_type, historic_moment, sql_format, return_true_curves, return_exceeded_limit_features, as_df, datum_transformation, range_values, parameter_values, format_3d_objects, time_reference_unknown_client, **kwargs)\u001b[0m\n\u001b[1;32m     66\u001b[0m \u001b[38;5;28;01melse\u001b[39;00m:\n\u001b[1;32m     67\u001b[0m     url \u001b[38;5;241m=\u001b[39m \u001b[38;5;124m\"\u001b[39m\u001b[38;5;132;01m%s\u001b[39;00m\u001b[38;5;124m/query\u001b[39m\u001b[38;5;124m\"\u001b[39m \u001b[38;5;241m%\u001b[39m layer\u001b[38;5;241m.\u001b[39m_url\u001b[38;5;241m.\u001b[39msplit(\u001b[38;5;124m\"\u001b[39m\u001b[38;5;124m?\u001b[39m\u001b[38;5;124m\"\u001b[39m)[\u001b[38;5;241m0\u001b[39m]\n\u001b[0;32m---> 69\u001b[0m params \u001b[38;5;241m=\u001b[39m \u001b[43m_create_parameters\u001b[49m\u001b[43m(\u001b[49m\n\u001b[1;32m     70\u001b[0m \u001b[43m    \u001b[49m\u001b[43mlayer\u001b[49m\u001b[38;5;241;43m=\u001b[39;49m\u001b[43mlayer\u001b[49m\u001b[43m,\u001b[49m\n\u001b[1;32m     71\u001b[0m \u001b[43m    \u001b[49m\u001b[43mis_layer\u001b[49m\u001b[38;5;241;43m=\u001b[39;49m\u001b[43mis_layer\u001b[49m\u001b[43m,\u001b[49m\n\u001b[1;32m     72\u001b[0m \u001b[43m    \u001b[49m\u001b[43mwhere\u001b[49m\u001b[38;5;241;43m=\u001b[39;49m\u001b[43mwhere\u001b[49m\u001b[43m,\u001b[49m\n\u001b[1;32m     73\u001b[0m \u001b[43m    \u001b[49m\u001b[43mtext\u001b[49m\u001b[38;5;241;43m=\u001b[39;49m\u001b[43mtext\u001b[49m\u001b[43m,\u001b[49m\n\u001b[1;32m     74\u001b[0m \u001b[43m    \u001b[49m\u001b[43mout_fields\u001b[49m\u001b[38;5;241;43m=\u001b[39;49m\u001b[43mout_fields\u001b[49m\u001b[43m,\u001b[49m\n\u001b[1;32m     75\u001b[0m \u001b[43m    \u001b[49m\u001b[43mtime_filter\u001b[49m\u001b[38;5;241;43m=\u001b[39;49m\u001b[43mtime_filter\u001b[49m\u001b[43m,\u001b[49m\n\u001b[1;32m     76\u001b[0m \u001b[43m    \u001b[49m\u001b[43mgeometry_filter\u001b[49m\u001b[38;5;241;43m=\u001b[39;49m\u001b[43mgeometry_filter\u001b[49m\u001b[43m,\u001b[49m\n\u001b[1;32m     77\u001b[0m \u001b[43m    \u001b[49m\u001b[43mreturn_geometry\u001b[49m\u001b[38;5;241;43m=\u001b[39;49m\u001b[43mreturn_geometry\u001b[49m\u001b[43m,\u001b[49m\n\u001b[1;32m     78\u001b[0m \u001b[43m    \u001b[49m\u001b[43mreturn_count_only\u001b[49m\u001b[38;5;241;43m=\u001b[39;49m\u001b[43mreturn_count_only\u001b[49m\u001b[43m,\u001b[49m\n\u001b[1;32m     79\u001b[0m \u001b[43m    \u001b[49m\u001b[43mreturn_ids_only\u001b[49m\u001b[38;5;241;43m=\u001b[39;49m\u001b[43mreturn_ids_only\u001b[49m\u001b[43m,\u001b[49m\n\u001b[1;32m     80\u001b[0m \u001b[43m    \u001b[49m\u001b[43mreturn_distinct_values\u001b[49m\u001b[38;5;241;43m=\u001b[39;49m\u001b[43mreturn_distinct_values\u001b[49m\u001b[43m,\u001b[49m\n\u001b[1;32m     81\u001b[0m \u001b[43m    \u001b[49m\u001b[43mreturn_extent_only\u001b[49m\u001b[38;5;241;43m=\u001b[39;49m\u001b[43mreturn_extent_only\u001b[49m\u001b[43m,\u001b[49m\n\u001b[1;32m     82\u001b[0m \u001b[43m    \u001b[49m\u001b[43mgroup_by_fields_for_statistics\u001b[49m\u001b[38;5;241;43m=\u001b[39;49m\u001b[43mgroup_by_fields_for_statistics\u001b[49m\u001b[43m,\u001b[49m\n\u001b[1;32m     83\u001b[0m \u001b[43m    \u001b[49m\u001b[43mstatistic_filter\u001b[49m\u001b[38;5;241;43m=\u001b[39;49m\u001b[43mstatistic_filter\u001b[49m\u001b[43m,\u001b[49m\n\u001b[1;32m     84\u001b[0m \u001b[43m    \u001b[49m\u001b[43mresult_offset\u001b[49m\u001b[38;5;241;43m=\u001b[39;49m\u001b[43mresult_offset\u001b[49m\u001b[43m,\u001b[49m\n\u001b[1;32m     85\u001b[0m \u001b[43m    \u001b[49m\u001b[43mresult_record_count\u001b[49m\u001b[38;5;241;43m=\u001b[39;49m\u001b[43mresult_record_count\u001b[49m\u001b[43m,\u001b[49m\n\u001b[1;32m     86\u001b[0m \u001b[43m    \u001b[49m\u001b[43mobject_ids\u001b[49m\u001b[38;5;241;43m=\u001b[39;49m\u001b[43mobject_ids\u001b[49m\u001b[43m,\u001b[49m\n\u001b[1;32m     87\u001b[0m \u001b[43m    \u001b[49m\u001b[43mdistance\u001b[49m\u001b[38;5;241;43m=\u001b[39;49m\u001b[43mdistance\u001b[49m\u001b[43m,\u001b[49m\n\u001b[1;32m     88\u001b[0m \u001b[43m    \u001b[49m\u001b[43munits\u001b[49m\u001b[38;5;241;43m=\u001b[39;49m\u001b[43munits\u001b[49m\u001b[43m,\u001b[49m\n\u001b[1;32m     89\u001b[0m \u001b[43m    \u001b[49m\u001b[43mmax_allowable_offset\u001b[49m\u001b[38;5;241;43m=\u001b[39;49m\u001b[43mmax_allowable_offset\u001b[49m\u001b[43m,\u001b[49m\n\u001b[1;32m     90\u001b[0m \u001b[43m    \u001b[49m\u001b[43mout_sr\u001b[49m\u001b[38;5;241;43m=\u001b[39;49m\u001b[43mout_sr\u001b[49m\u001b[43m,\u001b[49m\n\u001b[1;32m     91\u001b[0m \u001b[43m    \u001b[49m\u001b[43mgeometry_precision\u001b[49m\u001b[38;5;241;43m=\u001b[39;49m\u001b[43mgeometry_precision\u001b[49m\u001b[43m,\u001b[49m\n\u001b[1;32m     92\u001b[0m \u001b[43m    \u001b[49m\u001b[43mgdb_version\u001b[49m\u001b[38;5;241;43m=\u001b[39;49m\u001b[43mgdb_version\u001b[49m\u001b[43m,\u001b[49m\n\u001b[1;32m     93\u001b[0m \u001b[43m    \u001b[49m\u001b[43morder_by_fields\u001b[49m\u001b[38;5;241;43m=\u001b[39;49m\u001b[43morder_by_fields\u001b[49m\u001b[43m,\u001b[49m\n\u001b[1;32m     94\u001b[0m \u001b[43m    \u001b[49m\u001b[43mout_statistics\u001b[49m\u001b[38;5;241;43m=\u001b[39;49m\u001b[43mout_statistics\u001b[49m\u001b[43m,\u001b[49m\n\u001b[1;32m     95\u001b[0m \u001b[43m    \u001b[49m\u001b[43mreturn_z\u001b[49m\u001b[38;5;241;43m=\u001b[39;49m\u001b[43mreturn_z\u001b[49m\u001b[43m,\u001b[49m\n\u001b[1;32m     96\u001b[0m \u001b[43m    \u001b[49m\u001b[43mreturn_m\u001b[49m\u001b[38;5;241;43m=\u001b[39;49m\u001b[43mreturn_m\u001b[49m\u001b[43m,\u001b[49m\n\u001b[1;32m     97\u001b[0m \u001b[43m    \u001b[49m\u001b[43mmultipatch_option\u001b[49m\u001b[38;5;241;43m=\u001b[39;49m\u001b[43mmultipatch_option\u001b[49m\u001b[43m,\u001b[49m\n\u001b[1;32m     98\u001b[0m \u001b[43m    \u001b[49m\u001b[43mquantization_parameters\u001b[49m\u001b[38;5;241;43m=\u001b[39;49m\u001b[43mquantization_parameters\u001b[49m\u001b[43m,\u001b[49m\n\u001b[1;32m     99\u001b[0m \u001b[43m    \u001b[49m\u001b[43mreturn_centroid\u001b[49m\u001b[38;5;241;43m=\u001b[39;49m\u001b[43mreturn_centroid\u001b[49m\u001b[43m,\u001b[49m\n\u001b[1;32m    100\u001b[0m \u001b[43m    \u001b[49m\u001b[43mreturn_all_records\u001b[49m\u001b[38;5;241;43m=\u001b[39;49m\u001b[43mreturn_all_records\u001b[49m\u001b[43m,\u001b[49m\n\u001b[1;32m    101\u001b[0m \u001b[43m    \u001b[49m\u001b[43mresult_type\u001b[49m\u001b[38;5;241;43m=\u001b[39;49m\u001b[43mresult_type\u001b[49m\u001b[43m,\u001b[49m\n\u001b[1;32m    102\u001b[0m \u001b[43m    \u001b[49m\u001b[43mhistoric_moment\u001b[49m\u001b[38;5;241;43m=\u001b[39;49m\u001b[43mhistoric_moment\u001b[49m\u001b[43m,\u001b[49m\n\u001b[1;32m    103\u001b[0m \u001b[43m    \u001b[49m\u001b[43msql_format\u001b[49m\u001b[38;5;241;43m=\u001b[39;49m\u001b[43msql_format\u001b[49m\u001b[43m,\u001b[49m\n\u001b[1;32m    104\u001b[0m \u001b[43m    \u001b[49m\u001b[43mreturn_true_curves\u001b[49m\u001b[38;5;241;43m=\u001b[39;49m\u001b[43mreturn_true_curves\u001b[49m\u001b[43m,\u001b[49m\n\u001b[1;32m    105\u001b[0m \u001b[43m    \u001b[49m\u001b[43mreturn_exceeded_limit_features\u001b[49m\u001b[38;5;241;43m=\u001b[39;49m\u001b[43mreturn_exceeded_limit_features\u001b[49m\u001b[43m,\u001b[49m\n\u001b[1;32m    106\u001b[0m \u001b[43m    \u001b[49m\u001b[43mdatum_transformation\u001b[49m\u001b[38;5;241;43m=\u001b[39;49m\u001b[43mdatum_transformation\u001b[49m\u001b[43m,\u001b[49m\n\u001b[1;32m    107\u001b[0m \u001b[43m    \u001b[49m\u001b[43mrange_values\u001b[49m\u001b[38;5;241;43m=\u001b[39;49m\u001b[43mrange_values\u001b[49m\u001b[43m,\u001b[49m\n\u001b[1;32m    108\u001b[0m \u001b[43m    \u001b[49m\u001b[43mparameter_values\u001b[49m\u001b[38;5;241;43m=\u001b[39;49m\u001b[43mparameter_values\u001b[49m\u001b[43m,\u001b[49m\n\u001b[1;32m    109\u001b[0m \u001b[43m    \u001b[49m\u001b[43mformat_3d_objects\u001b[49m\u001b[38;5;241;43m=\u001b[39;49m\u001b[43mformat_3d_objects\u001b[49m\u001b[43m,\u001b[49m\n\u001b[1;32m    110\u001b[0m \u001b[43m    \u001b[49m\u001b[43mtime_reference_unknown_client\u001b[49m\u001b[38;5;241;43m=\u001b[39;49m\u001b[43mtime_reference_unknown_client\u001b[49m\u001b[43m,\u001b[49m\n\u001b[1;32m    111\u001b[0m \u001b[43m    \u001b[49m\u001b[43mquery_3d\u001b[49m\u001b[38;5;241;43m=\u001b[39;49m\u001b[43mquery_3d\u001b[49m\u001b[43m,\u001b[49m\n\u001b[1;32m    112\u001b[0m \u001b[43m    \u001b[49m\u001b[38;5;241;43m*\u001b[39;49m\u001b[38;5;241;43m*\u001b[39;49m\u001b[43mkwargs\u001b[49m\u001b[43m,\u001b[49m\n\u001b[1;32m    113\u001b[0m \u001b[43m\u001b[49m\u001b[43m)\u001b[49m\n\u001b[1;32m    115\u001b[0m \u001b[38;5;28;01mif\u001b[39;00m \u001b[38;5;129;01mnot\u001b[39;00m return_all_records \u001b[38;5;129;01mor\u001b[39;00m \u001b[38;5;124m\"\u001b[39m\u001b[38;5;124moutStatistics\u001b[39m\u001b[38;5;124m\"\u001b[39m \u001b[38;5;129;01min\u001b[39;00m params:\n\u001b[1;32m    116\u001b[0m     \u001b[38;5;66;03m# we cannot assume that because return_all_records is False it means we specified something else\u001b[39;00m\n\u001b[1;32m    117\u001b[0m     \u001b[38;5;28;01mif\u001b[39;00m return_count_only \u001b[38;5;129;01mor\u001b[39;00m return_extent_only \u001b[38;5;129;01mor\u001b[39;00m return_ids_only:\n\u001b[1;32m    118\u001b[0m         \u001b[38;5;66;03m# Remove to avoid missing when wanting counts only\u001b[39;00m\n",
      "File \u001b[0;32m~/anaconda3/lib/python3.10/site-packages/arcgis/_impl/common/_query.py:220\u001b[0m, in \u001b[0;36m_create_parameters\u001b[0;34m(layer, is_layer, where, text, out_fields, time_filter, geometry_filter, return_geometry, return_count_only, return_ids_only, return_distinct_values, return_extent_only, group_by_fields_for_statistics, statistic_filter, result_offset, result_record_count, object_ids, distance, units, max_allowable_offset, out_sr, geometry_precision, gdb_version, order_by_fields, out_statistics, return_z, return_m, multipatch_option, quantization_parameters, return_centroid, return_all_records, result_type, historic_moment, sql_format, return_true_curves, return_exceeded_limit_features, datum_transformation, range_values, parameter_values, format_3d_objects, time_reference_unknown_client, query_3d, **kwargs)\u001b[0m\n\u001b[1;32m    218\u001b[0m params[\u001b[38;5;124m\"\u001b[39m\u001b[38;5;124mreturnZ\u001b[39m\u001b[38;5;124m\"\u001b[39m] \u001b[38;5;241m=\u001b[39m return_z\n\u001b[1;32m    219\u001b[0m params[\u001b[38;5;124m\"\u001b[39m\u001b[38;5;124mreturnM\u001b[39m\u001b[38;5;124m\"\u001b[39m] \u001b[38;5;241m=\u001b[39m return_m\n\u001b[0;32m--> 220\u001b[0m \u001b[38;5;28;01mif\u001b[39;00m \u001b[38;5;28;43mgetattr\u001b[39;49m\u001b[43m(\u001b[49m\u001b[43mlayer\u001b[49m\u001b[43m,\u001b[49m\u001b[43m \u001b[49m\u001b[38;5;124;43m\"\u001b[39;49m\u001b[38;5;124;43m_is_3d\u001b[39;49m\u001b[38;5;124;43m\"\u001b[39;49m\u001b[43m,\u001b[49m\u001b[43m \u001b[49m\u001b[38;5;28;43;01mNone\u001b[39;49;00m\u001b[43m)\u001b[49m:\n\u001b[1;32m    221\u001b[0m     \u001b[38;5;66;03m# for 3D feature query\u001b[39;00m\n\u001b[1;32m    222\u001b[0m     \u001b[38;5;28;01mif\u001b[39;00m format_3d_objects:\n\u001b[1;32m    223\u001b[0m         params[\u001b[38;5;124m\"\u001b[39m\u001b[38;5;124mformatOf3DObjects\u001b[39m\u001b[38;5;124m\"\u001b[39m] \u001b[38;5;241m=\u001b[39m format_3d_objects\n",
      "File \u001b[0;32m~/anaconda3/lib/python3.10/site-packages/arcgis/features/layer.py:101\u001b[0m, in \u001b[0;36mFeatureLayer._is_3d\u001b[0;34m(self)\u001b[0m\n\u001b[1;32m     98\u001b[0m \u001b[38;5;129m@property\u001b[39m\n\u001b[1;32m     99\u001b[0m \u001b[38;5;129m@lru_cache\u001b[39m(maxsize\u001b[38;5;241m=\u001b[39m\u001b[38;5;241m255\u001b[39m)\n\u001b[1;32m    100\u001b[0m \u001b[38;5;28;01mdef\u001b[39;00m \u001b[38;5;21m_is_3d\u001b[39m(\u001b[38;5;28mself\u001b[39m):\n\u001b[0;32m--> 101\u001b[0m     \u001b[38;5;28;01mif\u001b[39;00m \u001b[38;5;124m\"\u001b[39m\u001b[38;5;124minfoFor3D\u001b[39m\u001b[38;5;124m\"\u001b[39m \u001b[38;5;129;01min\u001b[39;00m \u001b[38;5;28;43mself\u001b[39;49m\u001b[38;5;241;43m.\u001b[39;49m\u001b[43mproperties\u001b[49m \u001b[38;5;129;01mand\u001b[39;00m \u001b[38;5;28mself\u001b[39m\u001b[38;5;241m.\u001b[39mproperties\u001b[38;5;241m.\u001b[39minfoFor3D \u001b[38;5;129;01mis\u001b[39;00m \u001b[38;5;129;01mnot\u001b[39;00m \u001b[38;5;28;01mNone\u001b[39;00m:\n\u001b[1;32m    102\u001b[0m         \u001b[38;5;28;01mreturn\u001b[39;00m \u001b[38;5;28;01mTrue\u001b[39;00m\n\u001b[1;32m    103\u001b[0m     \u001b[38;5;28;01melse\u001b[39;00m:\n",
      "File \u001b[0;32m~/anaconda3/lib/python3.10/site-packages/arcgis/gis/__init__.py:18841\u001b[0m, in \u001b[0;36m_GISResource.properties\u001b[0;34m(self)\u001b[0m\n\u001b[1;32m  18839\u001b[0m     \u001b[38;5;28;01mreturn\u001b[39;00m \u001b[38;5;28mself\u001b[39m\u001b[38;5;241m.\u001b[39m_lazy_properties\n\u001b[1;32m  18840\u001b[0m \u001b[38;5;28;01melse\u001b[39;00m:\n\u001b[0;32m> 18841\u001b[0m     \u001b[38;5;28;43mself\u001b[39;49m\u001b[38;5;241;43m.\u001b[39;49m\u001b[43m_hydrate\u001b[49m\u001b[43m(\u001b[49m\u001b[43m)\u001b[49m\n\u001b[1;32m  18842\u001b[0m     \u001b[38;5;28;01mreturn\u001b[39;00m \u001b[38;5;28mself\u001b[39m\u001b[38;5;241m.\u001b[39m_lazy_properties\n",
      "File \u001b[0;32m~/anaconda3/lib/python3.10/site-packages/arcgis/gis/__init__.py:18878\u001b[0m, in \u001b[0;36m_GISResource._hydrate\u001b[0;34m(self)\u001b[0m\n\u001b[1;32m  18875\u001b[0m \u001b[38;5;28;01mtry\u001b[39;00m:\n\u001b[1;32m  18876\u001b[0m     \u001b[38;5;66;03m# try as a public server\u001b[39;00m\n\u001b[1;32m  18877\u001b[0m     \u001b[38;5;28mself\u001b[39m\u001b[38;5;241m.\u001b[39m_lazy_token \u001b[38;5;241m=\u001b[39m \u001b[38;5;28;01mNone\u001b[39;00m\n\u001b[0;32m> 18878\u001b[0m     \u001b[38;5;28;43mself\u001b[39;49m\u001b[38;5;241;43m.\u001b[39;49m\u001b[43m_refresh\u001b[49m\u001b[43m(\u001b[49m\u001b[43m)\u001b[49m\n\u001b[1;32m  18880\u001b[0m \u001b[38;5;28;01mexcept\u001b[39;00m HTTPError \u001b[38;5;28;01mas\u001b[39;00m httperror:\n\u001b[1;32m  18881\u001b[0m     _log\u001b[38;5;241m.\u001b[39merror(httperror)\n",
      "File \u001b[0;32m~/anaconda3/lib/python3.10/site-packages/arcgis/gis/__init__.py:18829\u001b[0m, in \u001b[0;36m_GISResource._refresh\u001b[0;34m(self)\u001b[0m\n\u001b[1;32m  18827\u001b[0m             dictdata \u001b[38;5;241m=\u001b[39m \u001b[38;5;28mself\u001b[39m\u001b[38;5;241m.\u001b[39m_con\u001b[38;5;241m.\u001b[39mget(\u001b[38;5;28mself\u001b[39m\u001b[38;5;241m.\u001b[39murl, params)\n\u001b[1;32m  18828\u001b[0m         \u001b[38;5;28;01melse\u001b[39;00m:\n\u001b[0;32m> 18829\u001b[0m             \u001b[38;5;28;01mraise\u001b[39;00m e\n\u001b[1;32m  18831\u001b[0m \u001b[38;5;28mself\u001b[39m\u001b[38;5;241m.\u001b[39m_lazy_properties \u001b[38;5;241m=\u001b[39m _mixins\u001b[38;5;241m.\u001b[39mPropertyMap(dictdata)\n",
      "File \u001b[0;32m~/anaconda3/lib/python3.10/site-packages/arcgis/gis/__init__.py:18818\u001b[0m, in \u001b[0;36m_GISResource._refresh\u001b[0;34m(self)\u001b[0m\n\u001b[1;32m  18812\u001b[0m         dictdata \u001b[38;5;241m=\u001b[39m \u001b[38;5;28mself\u001b[39m\u001b[38;5;241m.\u001b[39m_con\u001b[38;5;241m.\u001b[39mpost(\n\u001b[1;32m  18813\u001b[0m             \u001b[38;5;28mself\u001b[39m\u001b[38;5;241m.\u001b[39murl,\n\u001b[1;32m  18814\u001b[0m             params,\n\u001b[1;32m  18815\u001b[0m             timeout\u001b[38;5;241m=\u001b[39m\u001b[38;5;28;01mNone\u001b[39;00m,  \u001b[38;5;66;03m# token=self._lazy_token,\u001b[39;00m\n\u001b[1;32m  18816\u001b[0m         )\n\u001b[1;32m  18817\u001b[0m     \u001b[38;5;28;01melse\u001b[39;00m:\n\u001b[0;32m> 18818\u001b[0m         dictdata \u001b[38;5;241m=\u001b[39m \u001b[38;5;28;43mself\u001b[39;49m\u001b[38;5;241;43m.\u001b[39;49m\u001b[43m_con\u001b[49m\u001b[38;5;241;43m.\u001b[39;49m\u001b[43mpost\u001b[49m\u001b[43m(\u001b[49m\n\u001b[1;32m  18819\u001b[0m \u001b[43m            \u001b[49m\u001b[38;5;28;43mself\u001b[39;49m\u001b[38;5;241;43m.\u001b[39;49m\u001b[43murl\u001b[49m\u001b[43m,\u001b[49m\u001b[43m \u001b[49m\u001b[43mparams\u001b[49m\n\u001b[1;32m  18820\u001b[0m \u001b[43m        \u001b[49m\u001b[43m)\u001b[49m  \u001b[38;5;66;03m# , token=self._lazy_token)\u001b[39;00m\n\u001b[1;32m  18821\u001b[0m \u001b[38;5;28;01mexcept\u001b[39;00m \u001b[38;5;167;01mException\u001b[39;00m \u001b[38;5;28;01mas\u001b[39;00m e:\n\u001b[1;32m  18822\u001b[0m     \u001b[38;5;28;01mif\u001b[39;00m \u001b[38;5;28mhasattr\u001b[39m(e, \u001b[38;5;124m\"\u001b[39m\u001b[38;5;124mmsg\u001b[39m\u001b[38;5;124m\"\u001b[39m) \u001b[38;5;129;01mand\u001b[39;00m e\u001b[38;5;241m.\u001b[39mmsg \u001b[38;5;241m==\u001b[39m \u001b[38;5;124m\"\u001b[39m\u001b[38;5;124mMethod Not Allowed\u001b[39m\u001b[38;5;124m\"\u001b[39m:\n",
      "File \u001b[0;32m~/anaconda3/lib/python3.10/site-packages/arcgis/gis/_impl/_con/_connection.py:1504\u001b[0m, in \u001b[0;36mConnection.post\u001b[0;34m(self, path, params, files, **kwargs)\u001b[0m\n\u001b[1;32m   1502\u001b[0m \u001b[38;5;28;01mif\u001b[39;00m return_raw_response:\n\u001b[1;32m   1503\u001b[0m     \u001b[38;5;28;01mreturn\u001b[39;00m resp\n\u001b[0;32m-> 1504\u001b[0m \u001b[38;5;28;01mreturn\u001b[39;00m \u001b[38;5;28;43mself\u001b[39;49m\u001b[38;5;241;43m.\u001b[39;49m\u001b[43m_handle_response\u001b[49m\u001b[43m(\u001b[49m\n\u001b[1;32m   1505\u001b[0m \u001b[43m    \u001b[49m\u001b[43mresp\u001b[49m\u001b[38;5;241;43m=\u001b[39;49m\u001b[43mresp\u001b[49m\u001b[43m,\u001b[49m\n\u001b[1;32m   1506\u001b[0m \u001b[43m    \u001b[49m\u001b[43mout_path\u001b[49m\u001b[38;5;241;43m=\u001b[39;49m\u001b[43mout_path\u001b[49m\u001b[43m,\u001b[49m\n\u001b[1;32m   1507\u001b[0m \u001b[43m    \u001b[49m\u001b[43mfile_name\u001b[49m\u001b[38;5;241;43m=\u001b[39;49m\u001b[43mfile_name\u001b[49m\u001b[43m,\u001b[49m\n\u001b[1;32m   1508\u001b[0m \u001b[43m    \u001b[49m\u001b[43mtry_json\u001b[49m\u001b[38;5;241;43m=\u001b[39;49m\u001b[43mtry_json\u001b[49m\u001b[43m,\u001b[49m\n\u001b[1;32m   1509\u001b[0m \u001b[43m    \u001b[49m\u001b[43mforce_bytes\u001b[49m\u001b[38;5;241;43m=\u001b[39;49m\u001b[43mkwargs\u001b[49m\u001b[38;5;241;43m.\u001b[39;49m\u001b[43mpop\u001b[49m\u001b[43m(\u001b[49m\u001b[38;5;124;43m\"\u001b[39;49m\u001b[38;5;124;43mforce_bytes\u001b[39;49m\u001b[38;5;124;43m\"\u001b[39;49m\u001b[43m,\u001b[49m\u001b[43m \u001b[49m\u001b[38;5;28;43;01mFalse\u001b[39;49;00m\u001b[43m)\u001b[49m\u001b[43m,\u001b[49m\n\u001b[1;32m   1510\u001b[0m \u001b[43m\u001b[49m\u001b[43m)\u001b[49m\n",
      "File \u001b[0;32m~/anaconda3/lib/python3.10/site-packages/arcgis/gis/_impl/_con/_connection.py:979\u001b[0m, in \u001b[0;36mConnection._handle_response\u001b[0;34m(self, resp, file_name, out_path, try_json, force_bytes, ignore_error_key)\u001b[0m\n\u001b[1;32m    977\u001b[0m             \u001b[38;5;28;01mreturn\u001b[39;00m data\n\u001b[1;32m    978\u001b[0m         errorcode \u001b[38;5;241m=\u001b[39m data[\u001b[38;5;124m\"\u001b[39m\u001b[38;5;124merror\u001b[39m\u001b[38;5;124m\"\u001b[39m][\u001b[38;5;124m\"\u001b[39m\u001b[38;5;124mcode\u001b[39m\u001b[38;5;124m\"\u001b[39m] \u001b[38;5;28;01mif\u001b[39;00m \u001b[38;5;124m\"\u001b[39m\u001b[38;5;124mcode\u001b[39m\u001b[38;5;124m\"\u001b[39m \u001b[38;5;129;01min\u001b[39;00m data[\u001b[38;5;124m\"\u001b[39m\u001b[38;5;124merror\u001b[39m\u001b[38;5;124m\"\u001b[39m] \u001b[38;5;28;01melse\u001b[39;00m \u001b[38;5;241m0\u001b[39m\n\u001b[0;32m--> 979\u001b[0m         \u001b[38;5;28;43mself\u001b[39;49m\u001b[38;5;241;43m.\u001b[39;49m\u001b[43m_handle_json_error\u001b[49m\u001b[43m(\u001b[49m\u001b[43mdata\u001b[49m\u001b[43m[\u001b[49m\u001b[38;5;124;43m\"\u001b[39;49m\u001b[38;5;124;43merror\u001b[39;49m\u001b[38;5;124;43m\"\u001b[39;49m\u001b[43m]\u001b[49m\u001b[43m,\u001b[49m\u001b[43m \u001b[49m\u001b[43merrorcode\u001b[49m\u001b[43m)\u001b[49m\n\u001b[1;32m    980\u001b[0m     \u001b[38;5;28;01mreturn\u001b[39;00m data\n\u001b[1;32m    981\u001b[0m \u001b[38;5;28;01melse\u001b[39;00m:\n",
      "File \u001b[0;32m~/anaconda3/lib/python3.10/site-packages/arcgis/gis/_impl/_con/_connection.py:1002\u001b[0m, in \u001b[0;36mConnection._handle_json_error\u001b[0;34m(self, error, errorcode)\u001b[0m\n\u001b[1;32m    999\u001b[0m                 \u001b[38;5;66;03m# _log.error(errordetail)\u001b[39;00m\n\u001b[1;32m   1001\u001b[0m errormessage \u001b[38;5;241m=\u001b[39m errormessage \u001b[38;5;241m+\u001b[39m \u001b[38;5;124m\"\u001b[39m\u001b[38;5;130;01m\\n\u001b[39;00m\u001b[38;5;124m(Error Code: \u001b[39m\u001b[38;5;124m\"\u001b[39m \u001b[38;5;241m+\u001b[39m \u001b[38;5;28mstr\u001b[39m(errorcode) \u001b[38;5;241m+\u001b[39m \u001b[38;5;124m\"\u001b[39m\u001b[38;5;124m)\u001b[39m\u001b[38;5;124m\"\u001b[39m\n\u001b[0;32m-> 1002\u001b[0m \u001b[38;5;28;01mraise\u001b[39;00m \u001b[38;5;167;01mException\u001b[39;00m(errormessage)\n",
      "\u001b[0;31mException\u001b[0m: Invalid URL\nInvalid URL\n(Error Code: 400)"
     ]
    }
   ],
   "source": [
    "from arcgis.gis import GIS\n",
    "from arcgis.mapping import WebMap\n",
    "from arcgis.features import FeatureLayer\n",
    "\n",
    "# Step 2: Load the Map by Its Item ID\n",
    "webmap_id = \"7b665b666982448b86985e4a3cd1a11a\"\n",
    "webmap = WebMap(gis.content.get(webmap_id))\n",
    "\n",
    "# Step 3: Create or Load a Feature Layer to Add\n",
    "# Example: Add a point to an existing feature layer\n",
    "feature_layer_url = \"URL_to_feature_layer\"  # Replace with your feature layer's URL\n",
    "feature_layer = FeatureLayer(feature_layer_url)\n",
    "\n",
    "# Example feature (point)\n",
    "new_feature = {\n",
    "    \"geometry\": {\n",
    "        \"x\": -122.6004,  # Longitude\n",
    "        \"y\": 45.5148,    # Latitude\n",
    "        \"spatialReference\": {\"wkid\": 4326}\n",
    "    },\n",
    "    \"attributes\": {\n",
    "        \"field_name\": \"field_value\"  # Replace with actual attributes and values\n",
    "    }\n",
    "}\n",
    "\n",
    "# Add the new feature\n",
    "response = feature_layer.edit_features(adds=[new_feature])\n",
    "\n",
    "if \"addResults\" in response and response[\"addResults\"][0][\"success\"]:\n",
    "    print(\"Feature added successfully!\")\n",
    "else:\n",
    "    print(\"Failed to add feature:\", response)"
   ]
  }
 ],
 "metadata": {
  "kernelspec": {
   "display_name": "Python 3 (ipykernel)",
   "language": "python",
   "name": "python3"
  },
  "language_info": {
   "codemirror_mode": {
    "name": "ipython",
    "version": 3
   },
   "file_extension": ".py",
   "mimetype": "text/x-python",
   "name": "python",
   "nbconvert_exporter": "python",
   "pygments_lexer": "ipython3",
   "version": "3.10.9"
  }
 },
 "nbformat": 4,
 "nbformat_minor": 5
}
